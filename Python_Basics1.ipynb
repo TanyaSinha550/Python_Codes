{
  "nbformat": 4,
  "nbformat_minor": 0,
  "metadata": {
    "colab": {
      "name": "Python_Basics1.ipynb",
      "provenance": []
    },
    "kernelspec": {
      "name": "python3",
      "display_name": "Python 3"
    },
    "accelerator": "GPU"
  },
  "cells": [
    {
      "cell_type": "markdown",
      "metadata": {
        "id": "YAWwkKT4cF4N",
        "colab_type": "text"
      },
      "source": [
        "Multiple Input in *Python*"
      ]
    },
    {
      "cell_type": "code",
      "metadata": {
        "id": "ueruGODlcOKE",
        "colab_type": "code",
        "colab": {
          "base_uri": "https://localhost:8080/",
          "height": 51
        },
        "outputId": "c3f50109-3044-4676-c3ce-73b117b805e8"
      },
      "source": [
        "#Space separated Multiple Input\n",
        "a,b=input(\"Enter Two Number\\n\").split()"
      ],
      "execution_count": 9,
      "outputs": [
        {
          "output_type": "stream",
          "text": [
            "Enter Two Number\n",
            "10 189\n"
          ],
          "name": "stdout"
        }
      ]
    },
    {
      "cell_type": "code",
      "metadata": {
        "id": "gMvNTLLGcqJ7",
        "colab_type": "code",
        "colab": {
          "base_uri": "https://localhost:8080/",
          "height": 51
        },
        "outputId": "01d03483-7346-4c2e-f281-b80ed807b2fd"
      },
      "source": [
        "#Convert String Input to Int\n",
        "a,b=map(int,input(\"Enter two nos\\n\").split())"
      ],
      "execution_count": 11,
      "outputs": [
        {
          "output_type": "stream",
          "text": [
            "Enter two nos\n",
            "18 89\n"
          ],
          "name": "stdout"
        }
      ]
    },
    {
      "cell_type": "code",
      "metadata": {
        "id": "zcWhCV-Lc9DY",
        "colab_type": "code",
        "colab": {
          "base_uri": "https://localhost:8080/",
          "height": 51
        },
        "outputId": "02c2e897-755a-476f-d030-485118ddda63"
      },
      "source": [
        "#taking Multiple Input in List\n",
        "list1=list(map(int,input(\"Enter multiple nos \\n\").split()))"
      ],
      "execution_count": 13,
      "outputs": [
        {
          "output_type": "stream",
          "text": [
            "Enter multiple nos \n",
            "10 23 34 45 67 89 38\n"
          ],
          "name": "stdout"
        }
      ]
    },
    {
      "cell_type": "code",
      "metadata": {
        "id": "WRnoLVqzhJZr",
        "colab_type": "code",
        "colab": {
          "base_uri": "https://localhost:8080/",
          "height": 34
        },
        "outputId": "f7da2b5e-ab89-46b6-fece-53f0f0eea929"
      },
      "source": [
        "list2=[int(i) for i in input(\"Enter Multiple Input in a list\").split()]"
      ],
      "execution_count": 15,
      "outputs": [
        {
          "output_type": "stream",
          "text": [
            "Enter Multiple Input in a list12 34 56  78 90 87\n"
          ],
          "name": "stdout"
        }
      ]
    },
    {
      "cell_type": "markdown",
      "metadata": {
        "id": "KhTo6kpTgUBz",
        "colab_type": "text"
      },
      "source": [
        "Formatting Output"
      ]
    },
    {
      "cell_type": "code",
      "metadata": {
        "id": "aIS6Kn_XgXPL",
        "colab_type": "code",
        "colab": {
          "base_uri": "https://localhost:8080/",
          "height": 34
        },
        "outputId": "e1ac044a-e7ce-43a6-b4dd-1dc113847ee2"
      },
      "source": [
        "#Print without new line in python\n",
        "a=[10,12,45,56,78,98,37]\n",
        "for i in a:\n",
        "  print(i,end=\" \")"
      ],
      "execution_count": 20,
      "outputs": [
        {
          "output_type": "stream",
          "text": [
            "10 12 45 56 78 98 37 "
          ],
          "name": "stdout"
        }
      ]
    },
    {
      "cell_type": "code",
      "metadata": {
        "id": "BSWQps7giPcH",
        "colab_type": "code",
        "colab": {
          "base_uri": "https://localhost:8080/",
          "height": 34
        },
        "outputId": "a125121d-ca9f-4f78-ee38-7d19e95ba790"
      },
      "source": [
        "#Using Format\n",
        "print(\"My name is {0} and title is {1}\".format(\"tanya\",\"sinha\"))"
      ],
      "execution_count": 21,
      "outputs": [
        {
          "output_type": "stream",
          "text": [
            "My name is tanya and title is sinha\n"
          ],
          "name": "stdout"
        }
      ]
    },
    {
      "cell_type": "code",
      "metadata": {
        "id": "SKtdGLGMihST",
        "colab_type": "code",
        "colab": {
          "base_uri": "https://localhost:8080/",
          "height": 51
        },
        "outputId": "bf2ba70d-bd3f-4182-c835-81076fd823d7"
      },
      "source": [
        "#Formatting Numbers\n",
        "print(\"My first no is %0d and second no is %0.2f\"%(1100,56.98978967))\n",
        "print(\"My first no is %0d and second no is %0.5f\"%(1100,78.9056784890))"
      ],
      "execution_count": 22,
      "outputs": [
        {
          "output_type": "stream",
          "text": [
            "My first no is 1100 and second no is 56.99\n",
            "My first no is 1100 and second no is 78.90568\n"
          ],
          "name": "stdout"
        }
      ]
    }
  ]
}