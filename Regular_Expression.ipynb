{
  "nbformat": 4,
  "nbformat_minor": 0,
  "metadata": {
    "colab": {
      "name": "Regular_Expression.ipynb",
      "provenance": [],
      "authorship_tag": "ABX9TyPdvIVbVSBlkP35Zob4a2FO",
      "include_colab_link": true
    },
    "kernelspec": {
      "name": "python3",
      "display_name": "Python 3"
    }
  },
  "cells": [
    {
      "cell_type": "markdown",
      "metadata": {
        "id": "view-in-github",
        "colab_type": "text"
      },
      "source": [
        "<a href=\"https://colab.research.google.com/github/TanyaSinha550/Python_Codes/blob/master/Regular_Expression.ipynb\" target=\"_parent\"><img src=\"https://colab.research.google.com/assets/colab-badge.svg\" alt=\"Open In Colab\"/></a>"
      ]
    },
    {
      "cell_type": "code",
      "metadata": {
        "id": "9TfCQl5XWK8F",
        "colab_type": "code",
        "colab": {}
      },
      "source": [
        "import re"
      ],
      "execution_count": 0,
      "outputs": []
    },
    {
      "cell_type": "code",
      "metadata": {
        "id": "bamk66g-XTu6",
        "colab_type": "code",
        "colab": {}
      },
      "source": [
        "text=\"the phone number is 123-555-1234\"\n",
        "pattern=\"phone\""
      ],
      "execution_count": 0,
      "outputs": []
    },
    {
      "cell_type": "code",
      "metadata": {
        "id": "Aui_Y6jrXbve",
        "colab_type": "code",
        "colab": {}
      },
      "source": [
        "result=re.search(pattern,text)"
      ],
      "execution_count": 0,
      "outputs": []
    },
    {
      "cell_type": "code",
      "metadata": {
        "id": "W-tvdgoLXj4X",
        "colab_type": "code",
        "colab": {
          "base_uri": "https://localhost:8080/",
          "height": 34
        },
        "outputId": "55953ac4-41c1-4cd3-a310-14ce6f00a5de"
      },
      "source": [
        "result.span()"
      ],
      "execution_count": 4,
      "outputs": [
        {
          "output_type": "execute_result",
          "data": {
            "text/plain": [
              "(4, 9)"
            ]
          },
          "metadata": {
            "tags": []
          },
          "execution_count": 4
        }
      ]
    },
    {
      "cell_type": "markdown",
      "metadata": {
        "id": "Eysg8SE0X3z3",
        "colab_type": "text"
      },
      "source": [
        "More than one occurrences of pattern"
      ]
    },
    {
      "cell_type": "code",
      "metadata": {
        "id": "6pljHR4vXnH-",
        "colab_type": "code",
        "colab": {
          "base_uri": "https://localhost:8080/",
          "height": 34
        },
        "outputId": "b38087db-1cdf-461f-d618-aade6dd1ddca"
      },
      "source": [
        "text=\"the phone is new phone\"\n",
        "result_all=re.findall(\"phone\",text)\n",
        "print(len(result_all))"
      ],
      "execution_count": 8,
      "outputs": [
        {
          "output_type": "stream",
          "text": [
            "2\n"
          ],
          "name": "stdout"
        }
      ]
    },
    {
      "cell_type": "code",
      "metadata": {
        "id": "WhM9rcqNYL5N",
        "colab_type": "code",
        "colab": {
          "base_uri": "https://localhost:8080/",
          "height": 51
        },
        "outputId": "c08405ac-4a1e-42ea-a0e3-61eb6afccc52"
      },
      "source": [
        "for match in re.finditer(\"phone\",text):\n",
        "  print(match.span())"
      ],
      "execution_count": 14,
      "outputs": [
        {
          "output_type": "stream",
          "text": [
            "(4, 9)\n",
            "(17, 22)\n"
          ],
          "name": "stdout"
        }
      ]
    },
    {
      "cell_type": "markdown",
      "metadata": {
        "id": "yeg1iJlPbuSm",
        "colab_type": "text"
      },
      "source": [
        "![image.png](data:image/png;base64,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)"
      ]
    },
    {
      "cell_type": "markdown",
      "metadata": {
        "id": "KYfEpzTSb2q1",
        "colab_type": "text"
      },
      "source": [
        "![image.png](data:image/png;base64,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)"
      ]
    },
    {
      "cell_type": "code",
      "metadata": {
        "id": "BJ2Gbr0QZO_P",
        "colab_type": "code",
        "colab": {
          "base_uri": "https://localhost:8080/",
          "height": 34
        },
        "outputId": "1eab7dac-e852-4821-f084-6f06c22190bd"
      },
      "source": [
        "line=\"my phone number is 777-555-1234\"\n",
        "pattern=r'\\d{3}-\\d{3}-\\d{4}'\n",
        "result=re.search(pattern,line)\n",
        "print(result.group())"
      ],
      "execution_count": 12,
      "outputs": [
        {
          "output_type": "stream",
          "text": [
            "777-555-1234\n"
          ],
          "name": "stdout"
        }
      ]
    },
    {
      "cell_type": "code",
      "metadata": {
        "id": "qHqKizJjZ08_",
        "colab_type": "code",
        "colab": {
          "base_uri": "https://localhost:8080/",
          "height": 34
        },
        "outputId": "39713a9a-41d6-4316-8929-941cde22c6ff"
      },
      "source": [
        "line2=\"this is 223 a sentence having a lot of 444 of numbers 5555\"\n",
        "exclude_nu=re.findall(r\"[^\\d]+\",line2)\n",
        "print(exclude_nu)"
      ],
      "execution_count": 22,
      "outputs": [
        {
          "output_type": "stream",
          "text": [
            "['this is ', ' a sentence having a lot of ', ' of numbers ']\n"
          ],
          "name": "stdout"
        }
      ]
    },
    {
      "cell_type": "code",
      "metadata": {
        "id": "StuL_h0Iei0L",
        "colab_type": "code",
        "colab": {
          "base_uri": "https://localhost:8080/",
          "height": 34
        },
        "outputId": "5e9124fa-95e4-4b13-cd38-d91ac9f4464d"
      },
      "source": [
        "# Ends with a number\n",
        "re.findall(r'[^\\d$]+','This ends 3 with a number 2')"
      ],
      "execution_count": 27,
      "outputs": [
        {
          "output_type": "execute_result",
          "data": {
            "text/plain": [
              "['This ends ', ' with a number ']"
            ]
          },
          "metadata": {
            "tags": []
          },
          "execution_count": 27
        }
      ]
    },
    {
      "cell_type": "code",
      "metadata": {
        "id": "r_be5hvDh8iR",
        "colab_type": "code",
        "colab": {
          "base_uri": "https://localhost:8080/",
          "height": 34
        },
        "outputId": "427a39be-1831-4313-9385-7245899f4166"
      },
      "source": [
        "phrase = \"there are 3 numbers 34 inside 5 this sentence.\"\n",
        "re.findall(r'[^\\d]+',phrase)\n"
      ],
      "execution_count": 28,
      "outputs": [
        {
          "output_type": "execute_result",
          "data": {
            "text/plain": [
              "['there are ', ' numbers ', ' inside ', ' this sentence.']"
            ]
          },
          "metadata": {
            "tags": []
          },
          "execution_count": 28
        }
      ]
    },
    {
      "cell_type": "code",
      "metadata": {
        "id": "XHXFq_0yjCLg",
        "colab_type": "code",
        "colab": {
          "base_uri": "https://localhost:8080/",
          "height": 238
        },
        "outputId": "02ea417f-ad9d-4a4c-dfa9-f930c2823f94"
      },
      "source": [
        "test_phrase = 'This is a string! But it has punctuation. How can we remove it?'\n",
        "re.findall('[^!.? ]+',test_phrase)"
      ],
      "execution_count": 29,
      "outputs": [
        {
          "output_type": "execute_result",
          "data": {
            "text/plain": [
              "['This',\n",
              " 'is',\n",
              " 'a',\n",
              " 'string',\n",
              " 'But',\n",
              " 'it',\n",
              " 'has',\n",
              " 'punctuation',\n",
              " 'How',\n",
              " 'can',\n",
              " 'we',\n",
              " 'remove',\n",
              " 'it']"
            ]
          },
          "metadata": {
            "tags": []
          },
          "execution_count": 29
        }
      ]
    },
    {
      "cell_type": "code",
      "metadata": {
        "id": "OMrVB1PajL3h",
        "colab_type": "code",
        "colab": {
          "base_uri": "https://localhost:8080/",
          "height": 34
        },
        "outputId": "5388e094-005b-4e7f-d19d-83c15c87838b"
      },
      "source": [
        "clean = ' '.join(re.findall('[^!.? ]+',test_phrase))\n",
        "print(clean)"
      ],
      "execution_count": 30,
      "outputs": [
        {
          "output_type": "stream",
          "text": [
            "This is a string But it has punctuation How can we remove it\n"
          ],
          "name": "stdout"
        }
      ]
    },
    {
      "cell_type": "code",
      "metadata": {
        "id": "k9InLPiYjS-M",
        "colab_type": "code",
        "colab": {}
      },
      "source": [
        ""
      ],
      "execution_count": 0,
      "outputs": []
    }
  ]
}