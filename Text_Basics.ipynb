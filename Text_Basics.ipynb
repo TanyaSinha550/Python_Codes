{
  "nbformat": 4,
  "nbformat_minor": 0,
  "metadata": {
    "colab": {
      "name": "Text_Basics.ipynb",
      "provenance": [],
      "authorship_tag": "ABX9TyMwCGEKLLR4dm4HxSOh2bra",
      "include_colab_link": true
    },
    "kernelspec": {
      "name": "python3",
      "display_name": "Python 3"
    }
  },
  "cells": [
    {
      "cell_type": "markdown",
      "metadata": {
        "id": "view-in-github",
        "colab_type": "text"
      },
      "source": [
        "<a href=\"https://colab.research.google.com/github/TanyaSinha550/Python_Codes/blob/master/Text_Basics.ipynb\" target=\"_parent\"><img src=\"https://colab.research.google.com/assets/colab-badge.svg\" alt=\"Open In Colab\"/></a>"
      ]
    },
    {
      "cell_type": "code",
      "metadata": {
        "id": "8k68RFNDEIXj",
        "colab_type": "code",
        "colab": {}
      },
      "source": [
        "person=\"tanya\"\n"
      ],
      "execution_count": 0,
      "outputs": []
    },
    {
      "cell_type": "code",
      "metadata": {
        "id": "Cb5ybO84EhWK",
        "colab_type": "code",
        "outputId": "969e0eb5-1bb9-444e-8ea4-998f423107f9",
        "colab": {
          "base_uri": "https://localhost:8080/",
          "height": 34
        }
      },
      "source": [
        "print(\"my name is {}\".format(person))"
      ],
      "execution_count": 0,
      "outputs": [
        {
          "output_type": "stream",
          "text": [
            "my name is tanya\n"
          ],
          "name": "stdout"
        }
      ]
    },
    {
      "cell_type": "code",
      "metadata": {
        "id": "3u1NwFSnErK6",
        "colab_type": "code",
        "outputId": "7e76b75b-f88e-40d9-dcc7-5fc7f5434c8e",
        "colab": {
          "base_uri": "https://localhost:8080/",
          "height": 34
        }
      },
      "source": [
        "name=\"tanya\"\n",
        "title=\"sinha\"\n",
        "print(\"my name is {1} {0}\".format(name,title))"
      ],
      "execution_count": 0,
      "outputs": [
        {
          "output_type": "stream",
          "text": [
            "my name is sinha tanya\n"
          ],
          "name": "stdout"
        }
      ]
    },
    {
      "cell_type": "code",
      "metadata": {
        "id": "Krphr-GNE6Bt",
        "colab_type": "code",
        "outputId": "0e598126-de28-461d-c2f4-0206b57ea08f",
        "colab": {
          "base_uri": "https://localhost:8080/",
          "height": 34
        }
      },
      "source": [
        "animal =\"dog\"\n",
        "name=\"kalu\"\n",
        "print(f\"animal is {animal} and its name is {name}\")"
      ],
      "execution_count": 0,
      "outputs": [
        {
          "output_type": "stream",
          "text": [
            "animal is dog and its name is kalu\n"
          ],
          "name": "stdout"
        }
      ]
    },
    {
      "cell_type": "code",
      "metadata": {
        "id": "nvMd2lhMS62-",
        "colab_type": "code",
        "outputId": "c846cfd9-2222-4201-ddf0-68e70495b83a",
        "colab": {
          "base_uri": "https://localhost:8080/",
          "height": 34
        }
      },
      "source": [
        "my_list=[1,2,3]\n",
        "print(f\"accessing the list {my_list[2]}\")"
      ],
      "execution_count": 0,
      "outputs": [
        {
          "output_type": "stream",
          "text": [
            "accessing the list 3\n"
          ],
          "name": "stdout"
        }
      ]
    },
    {
      "cell_type": "code",
      "metadata": {
        "id": "d7sfDWEKUZOG",
        "colab_type": "code",
        "outputId": "f43d5af2-509d-4bd4-c1f9-209d4e96c735",
        "colab": {
          "base_uri": "https://localhost:8080/",
          "height": 34
        }
      },
      "source": [
        "my_dict={'a':90,'b':91}\n",
        "print(f\"dict 2nd element {my_dict['b']}\")"
      ],
      "execution_count": 0,
      "outputs": [
        {
          "output_type": "stream",
          "text": [
            "dict 2nd element 91\n"
          ],
          "name": "stdout"
        }
      ]
    },
    {
      "cell_type": "code",
      "metadata": {
        "id": "MWL-DXt6UuXv",
        "colab_type": "code",
        "outputId": "ea66a8f2-e7d5-439b-93bb-b81e53ddeea7",
        "colab": {
          "base_uri": "https://localhost:8080/",
          "height": 85
        }
      },
      "source": [
        "library = [('Author', 'Topic', 'Pages'), ('Twain', 'Rafting', 601), ('Feynman', 'Physics', 95), ('Hamilton', 'Mythology', 144)]\n",
        "for book in library:\n",
        "    print(f\"Author name is {book[0]} and pages is {book[2]}\")"
      ],
      "execution_count": 0,
      "outputs": [
        {
          "output_type": "stream",
          "text": [
            "Author name is Author and pages is Pages\n",
            "Author name is Twain and pages is 601\n",
            "Author name is Feynman and pages is 95\n",
            "Author name is Hamilton and pages is 144\n"
          ],
          "name": "stdout"
        }
      ]
    },
    {
      "cell_type": "code",
      "metadata": {
        "id": "wZqfGG-piGYN",
        "colab_type": "code",
        "outputId": "b4a67b73-5cbb-427c-f979-6db6eb7d67b5",
        "colab": {
          "base_uri": "https://localhost:8080/",
          "height": 85
        }
      },
      "source": [
        "library = [('Author', 'Topic', 'Pages'), ('Twain', 'Rafting', 601), ('Feynman', 'Physics', 95), ('Hamilton', 'Mythology', 144)]\n",
        "for book in library:\n",
        "    print(f\" {book[0]:{10}}  {book[1]:{10}}\")"
      ],
      "execution_count": 0,
      "outputs": [
        {
          "output_type": "stream",
          "text": [
            " Author      Topic     \n",
            " Twain       Rafting   \n",
            " Feynman     Physics   \n",
            " Hamilton    Mythology \n"
          ],
          "name": "stdout"
        }
      ]
    },
    {
      "cell_type": "code",
      "metadata": {
        "id": "iFgu2MtXk-Zf",
        "colab_type": "code",
        "outputId": "d7765c8f-558e-4516-9d68-e1d374d27ee0",
        "colab": {
          "base_uri": "https://localhost:8080/",
          "height": 34
        }
      },
      "source": [
        "%%writefile test1.txt\n",
        "this is the first line\n",
        "this is the second line"
      ],
      "execution_count": 0,
      "outputs": [
        {
          "output_type": "stream",
          "text": [
            "Writing test1.txt\n"
          ],
          "name": "stdout"
        }
      ]
    },
    {
      "cell_type": "code",
      "metadata": {
        "id": "485FT7p27_JT",
        "colab_type": "code",
        "colab": {}
      },
      "source": [
        "file1=open(\"/content/test.txt\")"
      ],
      "execution_count": 0,
      "outputs": []
    },
    {
      "cell_type": "code",
      "metadata": {
        "id": "agp3m6im9LJc",
        "colab_type": "code",
        "outputId": "849bf4bd-e42f-49c2-a386-f2860be21250",
        "colab": {
          "base_uri": "https://localhost:8080/",
          "height": 34
        }
      },
      "source": [
        "file1.readlines()\n",
        "file1.seek(0)"
      ],
      "execution_count": 0,
      "outputs": [
        {
          "output_type": "execute_result",
          "data": {
            "text/plain": [
              "0"
            ]
          },
          "metadata": {
            "tags": []
          },
          "execution_count": 41
        }
      ]
    },
    {
      "cell_type": "code",
      "metadata": {
        "id": "waEbTsjN9NQj",
        "colab_type": "code",
        "outputId": "0da7aaf9-d980-4c23-c902-81b8a9eeccdb",
        "colab": {
          "base_uri": "https://localhost:8080/",
          "height": 51
        }
      },
      "source": [
        "lines=file1.readlines()\n",
        "for line in lines:\n",
        "  print(f\"first word is {line.split()[0]}\")"
      ],
      "execution_count": 0,
      "outputs": [
        {
          "output_type": "stream",
          "text": [
            "first word is this\n",
            "first word is this\n"
          ],
          "name": "stdout"
        }
      ]
    },
    {
      "cell_type": "code",
      "metadata": {
        "id": "3H_ATnBB9aif",
        "colab_type": "code",
        "outputId": "2bb530ef-38b4-4e74-8199-2e22fffdd736",
        "colab": {
          "base_uri": "https://localhost:8080/",
          "height": 68
        }
      },
      "source": [
        "with open('/content/test.txt') as myfile1:\n",
        "  content=myfile1.readlines()\n",
        "  for lines in content:\n",
        "    print(f\"{lines}\")"
      ],
      "execution_count": 0,
      "outputs": [
        {
          "output_type": "stream",
          "text": [
            "this is the first line\n",
            "\n",
            "this is the second line\n"
          ],
          "name": "stdout"
        }
      ]
    },
    {
      "cell_type": "code",
      "metadata": {
        "id": "TgldiPcgLEDK",
        "colab_type": "code",
        "colab": {}
      },
      "source": [
        "import PyPDF2"
      ],
      "execution_count": 0,
      "outputs": []
    }
  ]
}